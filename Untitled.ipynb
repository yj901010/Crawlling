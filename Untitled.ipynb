{
 "cells": [
  {
   "cell_type": "code",
   "execution_count": 42,
   "id": "0069ebe7",
   "metadata": {
    "scrolled": true
   },
   "outputs": [],
   "source": [
    "from selenium import webdriver as wb\n",
    "from selenium.webdriver.common.keys import Keys\n",
    "from selenium.webdriver.common.by import By\n",
    "import time\n",
    "import pandas as pd\n",
    "\n",
    "driver = wb.Chrome()\n",
    "driver.get(\"https://www.justwatch.com/\")\n",
    "time.sleep(5)\n",
    "\n",
    "btn_popular = driver.find_element(By.CSS_SELECTOR, \"div.navbar__wrapper > a:nth-child(3)\")\n",
    "btn_popular.click()\n",
    "\n",
    "btn_netflix = driver.find_element(By.CSS_SELECTOR, \"div.filter-bar__provider-icon.filter-bar__provider-icon--provider.active > a\")\n",
    "btn_netflix.click()\n",
    "\n",
    "try:\n",
    "    for i in range(100):\n",
    "        body = driver.find_element(By.TAG_NAME, \"body\")\n",
    "        body.send_keys(Keys.END)\n",
    "        time.sleep(2)\n",
    "except:\n",
    "    print(\"끝입니다.\")\n",
    "\n",
    "img_tags = driver.find_elements(By.CSS_SELECTOR, \"#base > div.title-list.title-list--CLS-block > div > div:nth-child(2) > div:nth-child(1) > div > div > a > div > picture > img\")\n",
    "\n",
    "img_list = []\n",
    "\n",
    "for i in range(len(img_tags)):\n",
    "    img_list.append(img_tags[i].get_attribute(\"alt\"))"
   ]
  },
  {
   "cell_type": "code",
   "execution_count": 63,
   "id": "74d11044",
   "metadata": {},
   "outputs": [],
   "source": [
    "import pandas as pd\n",
    "dic = {\"이름\":img_list}\n",
    "ott = pd.DataFrame(dic)\n",
    "ott.to_csv(\"정보.csv\", encoding='utf-8 sig')"
   ]
  },
  {
   "cell_type": "code",
   "execution_count": null,
   "id": "f06bdc6a",
   "metadata": {},
   "outputs": [],
   "source": []
  },
  {
   "cell_type": "code",
   "execution_count": null,
   "id": "950c6bd9",
   "metadata": {
    "scrolled": true
   },
   "outputs": [],
   "source": []
  },
  {
   "cell_type": "code",
   "execution_count": null,
   "id": "ccf5c941",
   "metadata": {},
   "outputs": [],
   "source": []
  }
 ],
 "metadata": {
  "kernelspec": {
   "display_name": "Python 3 (ipykernel)",
   "language": "python",
   "name": "python3"
  },
  "language_info": {
   "codemirror_mode": {
    "name": "ipython",
    "version": 3
   },
   "file_extension": ".py",
   "mimetype": "text/x-python",
   "name": "python",
   "nbconvert_exporter": "python",
   "pygments_lexer": "ipython3",
   "version": "3.10.9"
  }
 },
 "nbformat": 4,
 "nbformat_minor": 5
}
