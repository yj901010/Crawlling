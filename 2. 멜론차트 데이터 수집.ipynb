{
 "cells": [
  {
   "cell_type": "code",
   "execution_count": 11,
   "id": "184ea120",
   "metadata": {},
   "outputs": [],
   "source": [
    "import requests as req\n",
    "from bs4 import BeautifulSoup as bs\n",
    "import pandas as pd"
   ]
  },
  {
   "cell_type": "code",
   "execution_count": 5,
   "id": "9d63d207",
   "metadata": {},
   "outputs": [],
   "source": [
    "# 1. req 를 통해서 멜론차트 정보를 요청\n",
    "\n",
    "# 프로그래밍 언어로 접근을 하면 웹페이지가 접근을 막음\n",
    "head = {'User-Agent':'Mozilla/5.0 (Windows NT 10.0; Win64; x64) AppleWebKit/537.36 (KHTML, like Gecko) Chrome/116.0.0.0 Safari/537.36'}\n",
    "# head = 가면(크롬의 가면을 쓴 프로그래밍언어로 접근)\n",
    "res = req.get(\"https://www.melon.com/chart/index.htm\", headers = head)"
   ]
  },
  {
   "cell_type": "code",
   "execution_count": null,
   "id": "fd3dcc08",
   "metadata": {},
   "outputs": [],
   "source": [
    "# 응답객체중 html 문서만 가져오기\n",
    "res.text"
   ]
  },
  {
   "cell_type": "code",
   "execution_count": 6,
   "id": "f87568a7",
   "metadata": {},
   "outputs": [],
   "source": [
    "# 태그 정보를 사용하기위해 문자열 데이터를 html데이터로 변형\n",
    "# 2. bs을 통해서 html데이터로 변형\n",
    "soup = bs(res.text, \"lxml\")"
   ]
  },
  {
   "cell_type": "code",
   "execution_count": 7,
   "id": "2d1c9ef4",
   "metadata": {},
   "outputs": [],
   "source": [
    "# 3. 노래제목 수집\n",
    "# 클래스 값 중간에 공백이 있다는 건 -> 클래스가 복수개다\n",
    "# 공백을 지우고 반드시 . 으로 이어준다!\n",
    "# ellipsis.rank01\n",
    "song = soup.select(\"div.ellipsis.rank01 > span > a\")"
   ]
  },
  {
   "cell_type": "code",
   "execution_count": 10,
   "id": "9a07c26d",
   "metadata": {},
   "outputs": [],
   "source": [
    "# 4. 가수이름 수집\n",
    "singer = soup.select(\"div.ellipsis.rank02 > span\")"
   ]
  },
  {
   "cell_type": "code",
   "execution_count": 97,
   "id": "0f121de7",
   "metadata": {},
   "outputs": [
    {
     "name": "stdout",
     "output_type": "stream",
     "text": [
      "정국\n",
      "NewJeans\n",
      "NewJeans\n",
      "박재정\n",
      "(여자)아이들\n",
      "IVE (아이브)\n",
      "임영웅\n",
      "우디 (Woody)\n",
      "Lauv\n",
      "임영웅\n",
      "전소미\n",
      "aespa\n",
      "임영웅\n",
      "LE SSERAFIM (르세라핌)\n",
      "NewJeans\n",
      "임영웅\n",
      "정국\n",
      "NewJeans\n",
      "임영웅\n",
      "임영웅\n",
      "IVE (아이브)\n",
      "임영웅\n",
      "임영웅\n",
      "임영웅\n",
      "LE SSERAFIM (르세라핌)\n",
      "NewJeans\n",
      "임영웅\n",
      "임영웅\n",
      "임영웅\n",
      "AKMU (악뮤)\n",
      "Paul Blanco\n",
      "임영웅\n",
      "임영웅\n",
      "NewJeans\n",
      "방탄소년단\n",
      "NewJeans\n",
      "세븐틴 (SEVENTEEN)\n",
      "임영웅\n",
      "NewJeans\n",
      "V\n",
      "방탄소년단\n",
      "윤하 (YOUNHA)\n",
      "IVE (아이브)\n",
      "ITZY (있지)\n",
      "Charlie Puth\n",
      "지수 (JISOO)\n",
      "IVE (아이브)\n",
      "STAYC(스테이씨)\n",
      "방탄소년단\n",
      "이세계아이돌\n",
      "부석순 (SEVENTEEN)\n",
      "AKMU (악뮤)\n",
      "지민\n",
      "Charlie Puth\n",
      "방탄소년단\n",
      "정국, 방탄소년단\n",
      "NCT DREAM\n",
      "STAYC(스테이씨)\n",
      "Agust D\n",
      "DK(디셈버)\n",
      "임한별\n",
      "성시경\n",
      "탑현\n",
      "NCT DREAM\n",
      "멜로망스\n",
      "오마이걸 (OH MY GIRL)\n",
      "V\n",
      "허각\n",
      "이무진\n",
      "케이시 (Kassy)\n",
      "FIFTY FIFTY\n",
      "방탄소년단\n",
      "LE SSERAFIM (르세라핌)\n",
      "H1-KEY (하이키)\n",
      "김호중\n",
      "NewJeans\n",
      "j-hope, J. Cole\n",
      "(여자)아이들\n",
      "우효\n",
      "경서\n",
      "지아\n",
      "제이세라\n",
      "The Kid LAROI, Justin Bieber\n",
      "김민석 (멜로망스)\n",
      "NCT DREAM\n",
      "로이킴\n",
      "IVE (아이브)\n",
      "김연지, DK(디셈버)\n",
      "#안녕\n",
      "이세계아이돌\n",
      "경서예지, 전건호\n",
      "ZEROBASEONE (제로베이스원)\n",
      "Charlie Puth\n",
      "(여자)아이들\n",
      "NCT DREAM\n",
      "임재현\n",
      "김호중, 송가인\n",
      "Charlie Puth\n",
      "던 (DAWN)\n",
      "이세계아이돌\n"
     ]
    }
   ],
   "source": [
    "# 데이터의 개수가 정해진 경우에는\n",
    "# 반드시 데이터 검증이 필요하다. (데이터의 길이, 데이터의 중복여부)\n",
    "len(singer)\n",
    "for i in singer: # i 에는 1개의 태그정보가 담겨있음\n",
    "    print(i.text)  # i에 담겨있는 content 가져오기"
   ]
  },
  {
   "cell_type": "code",
   "execution_count": 107,
   "id": "a9a87b09",
   "metadata": {},
   "outputs": [],
   "source": [
    "# 5. 수집된 데이터를 텍스트 정보만 추출해서 저장\n",
    "song_list = []\n",
    "singer_list = []\n",
    "\n",
    "for i in range(len(song)):\n",
    "    song_list.append(song[i].text)\n",
    "    singer_list.append(singer[i].text)"
   ]
  },
  {
   "cell_type": "code",
   "execution_count": 121,
   "id": "929e9330",
   "metadata": {},
   "outputs": [],
   "source": [
    "# 6. 표를 제작\n",
    "dic = {\"가수이름\" : singer_list, \"노래제목\" : song_list}\n",
    "melon = pd.DataFrame(dic)"
   ]
  },
  {
   "cell_type": "code",
   "execution_count": 122,
   "id": "55826d47",
   "metadata": {},
   "outputs": [],
   "source": [
    "# 7. 파일로 제작\n",
    "# 인코딩 작업\n",
    "# 한글이 깨지지 않게 반드시 해줘야한다!\n",
    "# utf-8\n",
    "# euc-kr\n",
    "# utf-8-sig\n",
    "melon.to_csv(\"멜론차트.csv\", encoding='EUC-KR')"
   ]
  },
  {
   "cell_type": "code",
   "execution_count": null,
   "id": "b2c81afa",
   "metadata": {},
   "outputs": [],
   "source": []
  },
  {
   "cell_type": "code",
   "execution_count": null,
   "id": "d612c04a",
   "metadata": {},
   "outputs": [],
   "source": []
  },
  {
   "cell_type": "code",
   "execution_count": null,
   "id": "d87f131f",
   "metadata": {},
   "outputs": [],
   "source": []
  },
  {
   "cell_type": "code",
   "execution_count": null,
   "id": "c884ace8",
   "metadata": {},
   "outputs": [],
   "source": []
  },
  {
   "cell_type": "code",
   "execution_count": null,
   "id": "f5885318",
   "metadata": {},
   "outputs": [],
   "source": []
  },
  {
   "cell_type": "code",
   "execution_count": null,
   "id": "ec008411",
   "metadata": {},
   "outputs": [],
   "source": []
  },
  {
   "cell_type": "code",
   "execution_count": null,
   "id": "f944ed84",
   "metadata": {},
   "outputs": [],
   "source": []
  },
  {
   "cell_type": "code",
   "execution_count": null,
   "id": "7d4bb88a",
   "metadata": {},
   "outputs": [],
   "source": []
  }
 ],
 "metadata": {
  "kernelspec": {
   "display_name": "Python 3 (ipykernel)",
   "language": "python",
   "name": "python3"
  },
  "language_info": {
   "codemirror_mode": {
    "name": "ipython",
    "version": 3
   },
   "file_extension": ".py",
   "mimetype": "text/x-python",
   "name": "python",
   "nbconvert_exporter": "python",
   "pygments_lexer": "ipython3",
   "version": "3.10.9"
  }
 },
 "nbformat": 4,
 "nbformat_minor": 5
}
