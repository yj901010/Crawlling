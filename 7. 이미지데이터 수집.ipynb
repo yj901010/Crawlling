{
 "cells": [
  {
   "cell_type": "code",
   "execution_count": 1,
   "id": "7a30a346",
   "metadata": {},
   "outputs": [],
   "source": [
    "from selenium import webdriver as wb\n",
    "from selenium.webdriver.common.by import By\n",
    "import time\n",
    "from selenium.webdriver.common.keys import Keys\n",
    "\n",
    "# 파일시스템을 위한 라이브러리(삭제, 생성)\n",
    "import os\n",
    "# 이미지의 경로를 실제 파일로 저장\n",
    "from urllib.request import urlretrieve"
   ]
  },
  {
   "cell_type": "code",
   "execution_count": 2,
   "id": "40bba427",
   "metadata": {},
   "outputs": [],
   "source": [
    "# 폴더 생성\n",
    "# 바탕화면에 이미지라는 폴더가 없다면 바탕화면에 이미지라는 폴더를 만들어라\n",
    "if not os.path.isdir(\"C:/Users/gjaischool1/Desktop/이미지\"):\n",
    "    os.mkdir(\"C:/Users/gjaischool1/Desktop/이미지\")"
   ]
  },
  {
   "cell_type": "code",
   "execution_count": 3,
   "id": "6362ee18",
   "metadata": {},
   "outputs": [],
   "source": [
    "driver = wb.Chrome()\n",
    "driver.get(\"https://search.naver.com/search.naver?where=image&sm=tab_jum&query=%ED%91%B8%EB%B0%94%EC%98%A4\")"
   ]
  },
  {
   "cell_type": "code",
   "execution_count": null,
   "id": "c411cc9a",
   "metadata": {},
   "outputs": [],
   "source": [
    "# 스크롤 하는코드\n",
    "for i in range(10):\n",
    "    body = driver.find_element(By.CSS_SELECTOR, \"body\")\n",
    "    body.send_keys(Keys.END)"
   ]
  },
  {
   "cell_type": "code",
   "execution_count": 5,
   "id": "de1f6d9c",
   "metadata": {},
   "outputs": [],
   "source": [
    "# 이미지 태그들을 수집\n",
    "img = driver.find_elements(By.CSS_SELECTOR,\"._image._listImage\")"
   ]
  },
  {
   "cell_type": "code",
   "execution_count": 8,
   "id": "540ab514",
   "metadata": {},
   "outputs": [
    {
     "data": {
      "text/plain": [
       "'https://search.pstatic.net/common/?src=http%3A%2F%2Fblogfiles.naver.net%2FMjAyMzA2MjJfNzcg%2FMDAxNjg3NDQzNzMxNTEw.LMYyB5V2r7yLTVkAoHmhm5SNDUCdYN835vCvbhyP5-Yg.hQq4mezI-6w3R1t8aOnUVHRHJPGwIteYg6GoozaBNusg.PNG.trric%2F%25BD%25BA%25C5%25A9%25B8%25B0%25BC%25A6_2023-06-22_%25BF%25C0%25C8%25C4_11.18.46.png&type=a340'"
      ]
     },
     "execution_count": 8,
     "metadata": {},
     "output_type": "execute_result"
    }
   ],
   "source": [
    "# 태그 안에 있는 속성을 가지고 올 때는 get_attribute(\"속성\")\n",
    "img[0].get_attribute(\"src\")"
   ]
  },
  {
   "cell_type": "code",
   "execution_count": 15,
   "id": "14b74d1b",
   "metadata": {},
   "outputs": [],
   "source": [
    "# src만 담아줄 리스트를 제작\n",
    "src = []\n",
    "for i in range(len(img)):\n",
    "    src.append(img[i].get_attribute(\"src\"))"
   ]
  },
  {
   "cell_type": "code",
   "execution_count": 10,
   "id": "e681ed2a",
   "metadata": {
    "collapsed": true
   },
   "outputs": [
    {
     "data": {
      "text/plain": [
       "['https://search.pstatic.net/common/?src=http%3A%2F%2Fblogfiles.naver.net%2FMjAyMzA2MjJfNzcg%2FMDAxNjg3NDQzNzMxNTEw.LMYyB5V2r7yLTVkAoHmhm5SNDUCdYN835vCvbhyP5-Yg.hQq4mezI-6w3R1t8aOnUVHRHJPGwIteYg6GoozaBNusg.PNG.trric%2F%25BD%25BA%25C5%25A9%25B8%25B0%25BC%25A6_2023-06-22_%25BF%25C0%25C8%25C4_11.18.46.png&type=a340',\n",
       " 'https://search.pstatic.net/common/?src=http%3A%2F%2Fblogfiles.naver.net%2FMjAyMzA1MjdfMjc0%2FMDAxNjg1MTk3NjMyOTAx.y4syQSW-maBnTwQ2-GBpciZ-1NxjBXWjDMDLY6FUfKcg.HSMvK7DNtMJewR73_cP_mXISe1WBMC28lIeabmtYgGcg.JPEG.niceguy00%2FSeul_%25BF%25EB%25C0%25CE%25C7%25AA%25BE%25BE_%25C7%25AA%25B9%25D9%25BF%25C042.jpg&type=ofullfill340_600_png',\n",
       " 'https://search.pstatic.net/common/?src=http%3A%2F%2Fblogfiles.naver.net%2FMjAyMzA2MDVfMjU0%2FMDAxNjg1OTYzMTY3OTE1.URPGywPg6GUfJQrf_Ea4GM9CYI2vgyAmrayv5n1mxbog.yyhgLmJnUan_h599jn20B3VWw-ZYJeZn2KqpwtOMdQ8g.JPEG.jh1723%2FIMG_4362.jpg&type=a340',\n",
       " 'https://search.pstatic.net/common/?src=http%3A%2F%2Fblogfiles.naver.net%2FMjAyMzA4MTFfMTg5%2FMDAxNjkxNzM3OTI5MDk2.OAffpBx0rMO_iueN64MePhN3mKuG-z0UnQxOzwWFR8og.UNk2SfK5HJkzq6qAkuvh81Qx9Ln2EmJHS6RbRz8uTw8g.JPEG.mj93424%2FDSC00850.JPG&type=l340_165',\n",
       " 'https://search.pstatic.net/sunny/?src=https%3A%2F%2Fstorage.enuri.info%2Fpic_upload%2Fknowbox%2Fmobile_img%2F202306%2F2023060811553448755.jpg&type=a340',\n",
       " 'https://search.pstatic.net/common/?src=http%3A%2F%2Fblogfiles.naver.net%2FMjAyMzA3MTFfODYg%2FMDAxNjg5MDg0MDY4OTU1.LxzMTzkh5EZc42jD93mGcLnlVzs8pEAErcgbUDN5XaQg.KplVK5JPl1cCv3Juo8vMXwovrafFsJs7S0c_r_elB9gg.JPEG.smilessun02%2FKakaoTalk_20230711_223801002_23.jpg&type=a340',\n",
       " 'https://search.pstatic.net/common/?src=http%3A%2F%2Fblogfiles.naver.net%2FMjAyMzA3MTFfMjc1%2FMDAxNjg5MDM1MTczNTU1.NB2nadbMf44-R78yPpmAiTRf6Lm0ScVtAvnt4TENXA4g.bZXol5oWCLaS7YhFmcI11LC9PI6SmOTnxibfoMU3BTog.PNG.juhyeon_oh%2Fimage.png&type=a340',\n",
       " 'https://search.pstatic.net/common/?src=http%3A%2F%2Fblogfiles.naver.net%2FMjAyMzA2MDlfMjkg%2FMDAxNjg2MzAyMDk2MjA5.CjVV9CY-P4h6tTlKK4lEZKrI7zIvgmn_eN0GQhPuWZAg.FSTlz22U37QHm4LdJthq-pnYhlivLC-RTJ5_SfT2Onog.PNG.lyuri30%2Fimage.png&type=a340',\n",
       " 'https://search.pstatic.net/common/?src=http%3A%2F%2Fblogfiles.naver.net%2FMjAyMzA2MDZfMTA3%2FMDAxNjg2MDU4ODc5NDU5.ijXJ7XhJPbe3yRq9nWF15wAImey6pFB_5YQECxcMJusg.2G427-RYZCt4mlcA7XThlpWuY3YcoYTnv6tk-qZaipAg.JPEG.iwillberunning%2FIMG_2897.jpg&type=a340',\n",
       " 'https://search.pstatic.net/common/?src=http%3A%2F%2Fblogfiles.naver.net%2FMjAyMzA2MDJfMTcy%2FMDAxNjg1Njk3MjQwNjIw.dkkTM7HLyaZcXt-fTbRZ7-hVxj8DFdUNhLJ2hC6D20Ig.h_oDzlYEu4xMlMtRx9yyx0aMNg1nQR-iSJgKbuXCk_8g.PNG.junn0815%2F%25BD%25BA%25C5%25A9%25B8%25B0%25BC%25A6_2023-06-02_%25BF%25C0%25C8%25C4_6.13.08.png&type=a340',\n",
       " 'https://search.pstatic.net/common/?src=http%3A%2F%2Fblogfiles.naver.net%2FMjAyMzA2MjRfMTEz%2FMDAxNjg3NjAyNDQ0OTA5.t-v_Ncx1-gbVoeDQLfcqdEGRxvMlChKiWqXrvZAFJyEg.37flfHacqBXb_RLLvzmdKQODcHuWbhcODc8hGzr3W2Ag.JPEG.hlove5022%2F1687602444004.jpg&type=a340',\n",
       " 'https://search.pstatic.net/common/?src=http%3A%2F%2Fblogfiles.naver.net%2FMjAyMzA3MjFfMjc0%2FMDAxNjg5OTA5MDcyNzUw.RJTQFaLBxZLAI0UGLf2z6YRII8LoiJD_cBUknyEEebEg.nZfxzZAPNW_FHqei_XIAcJJvLCxjGBalvhB11_Z9uRQg.JPEG.ghswkdmlrkcl%2F1689909070973.jpg&type=a340',\n",
       " 'https://search.pstatic.net/common/?src=http%3A%2F%2Fblogfiles.naver.net%2FMjAyMzA2MDhfNzQg%2FMDAxNjg2MjI5ODAwNjIw.-mU7_tcbm1_gYRdv7z70CRPfOAqph1SbetbBV55XnMYg.MuFHy0dveY8yXZ4Af2WMboFW0oZm4hhKSA7ug_fjdhEg.JPEG.manggaecloud%2FIMG_6219.JPG&type=ofullfill340_600_png',\n",
       " 'https://search.pstatic.net/common/?src=http%3A%2F%2Fblogfiles.naver.net%2FMjAyMzA2MDlfMTY4%2FMDAxNjg2MzE3MjUwNTk3.zVyaKjl1WJJ50N4C5LXk__4-4mt3l64m4sGNyCJNQjgg.sjf--SGbPT6X5_XVDHHbqZwF6tjlSwRF3reHX42S3log.JPEG.ssunyu12%2FIMG_2803.jpg&type=a340',\n",
       " 'data:image/gif;base64,R0lGODlhAQABAIAAAAAAAP///yH5BAEAAAAALAAAAAABAAEAAAIBRAA7',\n",
       " 'data:image/gif;base64,R0lGODlhAQABAIAAAAAAAP///yH5BAEAAAAALAAAAAABAAEAAAIBRAA7',\n",
       " 'data:image/gif;base64,R0lGODlhAQABAIAAAAAAAP///yH5BAEAAAAALAAAAAABAAEAAAIBRAA7',\n",
       " 'data:image/gif;base64,R0lGODlhAQABAIAAAAAAAP///yH5BAEAAAAALAAAAAABAAEAAAIBRAA7',\n",
       " 'data:image/gif;base64,R0lGODlhAQABAIAAAAAAAP///yH5BAEAAAAALAAAAAABAAEAAAIBRAA7',\n",
       " 'data:image/gif;base64,R0lGODlhAQABAIAAAAAAAP///yH5BAEAAAAALAAAAAABAAEAAAIBRAA7',\n",
       " 'data:image/gif;base64,R0lGODlhAQABAIAAAAAAAP///yH5BAEAAAAALAAAAAABAAEAAAIBRAA7',\n",
       " 'data:image/gif;base64,R0lGODlhAQABAIAAAAAAAP///yH5BAEAAAAALAAAAAABAAEAAAIBRAA7',\n",
       " 'data:image/gif;base64,R0lGODlhAQABAIAAAAAAAP///yH5BAEAAAAALAAAAAABAAEAAAIBRAA7',\n",
       " 'data:image/gif;base64,R0lGODlhAQABAIAAAAAAAP///yH5BAEAAAAALAAAAAABAAEAAAIBRAA7',\n",
       " 'data:image/gif;base64,R0lGODlhAQABAIAAAAAAAP///yH5BAEAAAAALAAAAAABAAEAAAIBRAA7',\n",
       " 'data:image/gif;base64,R0lGODlhAQABAIAAAAAAAP///yH5BAEAAAAALAAAAAABAAEAAAIBRAA7',\n",
       " 'data:image/gif;base64,R0lGODlhAQABAIAAAAAAAP///yH5BAEAAAAALAAAAAABAAEAAAIBRAA7',\n",
       " 'data:image/gif;base64,R0lGODlhAQABAIAAAAAAAP///yH5BAEAAAAALAAAAAABAAEAAAIBRAA7',\n",
       " 'data:image/gif;base64,R0lGODlhAQABAIAAAAAAAP///yH5BAEAAAAALAAAAAABAAEAAAIBRAA7',\n",
       " 'data:image/gif;base64,R0lGODlhAQABAIAAAAAAAP///yH5BAEAAAAALAAAAAABAAEAAAIBRAA7',\n",
       " 'data:image/gif;base64,R0lGODlhAQABAIAAAAAAAP///yH5BAEAAAAALAAAAAABAAEAAAIBRAA7',\n",
       " 'data:image/gif;base64,R0lGODlhAQABAIAAAAAAAP///yH5BAEAAAAALAAAAAABAAEAAAIBRAA7',\n",
       " 'data:image/gif;base64,R0lGODlhAQABAIAAAAAAAP///yH5BAEAAAAALAAAAAABAAEAAAIBRAA7',\n",
       " 'data:image/gif;base64,R0lGODlhAQABAIAAAAAAAP///yH5BAEAAAAALAAAAAABAAEAAAIBRAA7',\n",
       " 'data:image/gif;base64,R0lGODlhAQABAIAAAAAAAP///yH5BAEAAAAALAAAAAABAAEAAAIBRAA7',\n",
       " 'data:image/gif;base64,R0lGODlhAQABAIAAAAAAAP///yH5BAEAAAAALAAAAAABAAEAAAIBRAA7',\n",
       " 'data:image/gif;base64,R0lGODlhAQABAIAAAAAAAP///yH5BAEAAAAALAAAAAABAAEAAAIBRAA7',\n",
       " 'data:image/gif;base64,R0lGODlhAQABAIAAAAAAAP///yH5BAEAAAAALAAAAAABAAEAAAIBRAA7',\n",
       " 'data:image/gif;base64,R0lGODlhAQABAIAAAAAAAP///yH5BAEAAAAALAAAAAABAAEAAAIBRAA7',\n",
       " 'data:image/gif;base64,R0lGODlhAQABAIAAAAAAAP///yH5BAEAAAAALAAAAAABAAEAAAIBRAA7',\n",
       " 'data:image/gif;base64,R0lGODlhAQABAIAAAAAAAP///yH5BAEAAAAALAAAAAABAAEAAAIBRAA7',\n",
       " 'data:image/gif;base64,R0lGODlhAQABAIAAAAAAAP///yH5BAEAAAAALAAAAAABAAEAAAIBRAA7',\n",
       " 'data:image/gif;base64,R0lGODlhAQABAIAAAAAAAP///yH5BAEAAAAALAAAAAABAAEAAAIBRAA7',\n",
       " 'data:image/gif;base64,R0lGODlhAQABAIAAAAAAAP///yH5BAEAAAAALAAAAAABAAEAAAIBRAA7',\n",
       " 'data:image/gif;base64,R0lGODlhAQABAIAAAAAAAP///yH5BAEAAAAALAAAAAABAAEAAAIBRAA7',\n",
       " 'data:image/gif;base64,R0lGODlhAQABAIAAAAAAAP///yH5BAEAAAAALAAAAAABAAEAAAIBRAA7',\n",
       " 'data:image/gif;base64,R0lGODlhAQABAIAAAAAAAP///yH5BAEAAAAALAAAAAABAAEAAAIBRAA7',\n",
       " 'data:image/gif;base64,R0lGODlhAQABAIAAAAAAAP///yH5BAEAAAAALAAAAAABAAEAAAIBRAA7']"
      ]
     },
     "execution_count": 10,
     "metadata": {},
     "output_type": "execute_result"
    }
   ],
   "source": [
    "src"
   ]
  },
  {
   "cell_type": "code",
   "execution_count": 16,
   "id": "efa960f6",
   "metadata": {},
   "outputs": [],
   "source": [
    "# 이미지의 경로를 실제 파일로 저장\n",
    "for i in range(len(src)):\n",
    "    urlretrieve(src[i], \"C:/Users/gjaischool1/Desktop/이미지/\"+str(i)+\".jpg\")"
   ]
  },
  {
   "cell_type": "code",
   "execution_count": null,
   "id": "57871233",
   "metadata": {},
   "outputs": [],
   "source": []
  }
 ],
 "metadata": {
  "kernelspec": {
   "display_name": "Python 3 (ipykernel)",
   "language": "python",
   "name": "python3"
  },
  "language_info": {
   "codemirror_mode": {
    "name": "ipython",
    "version": 3
   },
   "file_extension": ".py",
   "mimetype": "text/x-python",
   "name": "python",
   "nbconvert_exporter": "python",
   "pygments_lexer": "ipython3",
   "version": "3.10.9"
  }
 },
 "nbformat": 4,
 "nbformat_minor": 5
}
